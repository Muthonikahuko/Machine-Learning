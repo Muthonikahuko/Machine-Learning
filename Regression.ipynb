{
  "nbformat": 4,
  "nbformat_minor": 0,
  "metadata": {
    "colab": {
      "name": "Regression.ipynb",
      "provenance": [],
      "authorship_tag": "ABX9TyMg48YielPQrwWgS+gb00P6"
    },
    "kernelspec": {
      "name": "python3",
      "display_name": "Python 3"
    },
    "language_info": {
      "name": "python"
    }
  },
  "cells": [
    {
      "cell_type": "code",
      "execution_count": null,
      "metadata": {
        "id": "q8OSNDV2fmVI"
      },
      "outputs": [],
      "source": [
        "import numpy as np\n",
        "import pandas as pd\n",
        "import matplotlib.pyplot as plt\n",
        "from scipy.stats import binom"
      ]
    },
    {
      "cell_type": "code",
      "source": [
        "n = 100"
      ],
      "metadata": {
        "id": "Wq0oTPepf4NW"
      },
      "execution_count": null,
      "outputs": []
    },
    {
      "cell_type": "code",
      "source": [
        "Lr = 0.00001 #learning rate\n",
        "data_set = {\"office_size\": np.random.normal(320, 60, n)}\n",
        "data_set[\"office_price\"] = np.random.normal(5000, 60, n)\n"
      ],
      "metadata": {
        "id": "1rZwYlE5hDf2"
      },
      "execution_count": null,
      "outputs": []
    },
    {
      "cell_type": "code",
      "source": [
        "pd.DataFrame(data_set)"
      ],
      "metadata": {
        "colab": {
          "base_uri": "https://localhost:8080/",
          "height": 424
        },
        "id": "PY9uEu8t5kRB",
        "outputId": "ddeb50fc-1d0d-4b7e-9479-b531af97b1e6"
      },
      "execution_count": null,
      "outputs": [
        {
          "output_type": "execute_result",
          "data": {
            "text/plain": [
              "    office_size  office_price\n",
              "0    380.494240   5014.303638\n",
              "1    410.903569   5111.101258\n",
              "2    301.591623   4875.570149\n",
              "3    330.796612   5026.703323\n",
              "4    373.898983   5087.597464\n",
              "..          ...           ...\n",
              "95   282.862348   4906.234695\n",
              "96   213.882240   5025.626606\n",
              "97   360.081765   5000.582352\n",
              "98   409.904257   4977.863753\n",
              "99   215.361594   5015.886494\n",
              "\n",
              "[100 rows x 2 columns]"
            ],
            "text/html": [
              "\n",
              "  <div id=\"df-af188bae-24c7-4ed4-b6e2-2e78e5e92fec\">\n",
              "    <div class=\"colab-df-container\">\n",
              "      <div>\n",
              "<style scoped>\n",
              "    .dataframe tbody tr th:only-of-type {\n",
              "        vertical-align: middle;\n",
              "    }\n",
              "\n",
              "    .dataframe tbody tr th {\n",
              "        vertical-align: top;\n",
              "    }\n",
              "\n",
              "    .dataframe thead th {\n",
              "        text-align: right;\n",
              "    }\n",
              "</style>\n",
              "<table border=\"1\" class=\"dataframe\">\n",
              "  <thead>\n",
              "    <tr style=\"text-align: right;\">\n",
              "      <th></th>\n",
              "      <th>office_size</th>\n",
              "      <th>office_price</th>\n",
              "    </tr>\n",
              "  </thead>\n",
              "  <tbody>\n",
              "    <tr>\n",
              "      <th>0</th>\n",
              "      <td>380.494240</td>\n",
              "      <td>5014.303638</td>\n",
              "    </tr>\n",
              "    <tr>\n",
              "      <th>1</th>\n",
              "      <td>410.903569</td>\n",
              "      <td>5111.101258</td>\n",
              "    </tr>\n",
              "    <tr>\n",
              "      <th>2</th>\n",
              "      <td>301.591623</td>\n",
              "      <td>4875.570149</td>\n",
              "    </tr>\n",
              "    <tr>\n",
              "      <th>3</th>\n",
              "      <td>330.796612</td>\n",
              "      <td>5026.703323</td>\n",
              "    </tr>\n",
              "    <tr>\n",
              "      <th>4</th>\n",
              "      <td>373.898983</td>\n",
              "      <td>5087.597464</td>\n",
              "    </tr>\n",
              "    <tr>\n",
              "      <th>...</th>\n",
              "      <td>...</td>\n",
              "      <td>...</td>\n",
              "    </tr>\n",
              "    <tr>\n",
              "      <th>95</th>\n",
              "      <td>282.862348</td>\n",
              "      <td>4906.234695</td>\n",
              "    </tr>\n",
              "    <tr>\n",
              "      <th>96</th>\n",
              "      <td>213.882240</td>\n",
              "      <td>5025.626606</td>\n",
              "    </tr>\n",
              "    <tr>\n",
              "      <th>97</th>\n",
              "      <td>360.081765</td>\n",
              "      <td>5000.582352</td>\n",
              "    </tr>\n",
              "    <tr>\n",
              "      <th>98</th>\n",
              "      <td>409.904257</td>\n",
              "      <td>4977.863753</td>\n",
              "    </tr>\n",
              "    <tr>\n",
              "      <th>99</th>\n",
              "      <td>215.361594</td>\n",
              "      <td>5015.886494</td>\n",
              "    </tr>\n",
              "  </tbody>\n",
              "</table>\n",
              "<p>100 rows × 2 columns</p>\n",
              "</div>\n",
              "      <button class=\"colab-df-convert\" onclick=\"convertToInteractive('df-af188bae-24c7-4ed4-b6e2-2e78e5e92fec')\"\n",
              "              title=\"Convert this dataframe to an interactive table.\"\n",
              "              style=\"display:none;\">\n",
              "        \n",
              "  <svg xmlns=\"http://www.w3.org/2000/svg\" height=\"24px\"viewBox=\"0 0 24 24\"\n",
              "       width=\"24px\">\n",
              "    <path d=\"M0 0h24v24H0V0z\" fill=\"none\"/>\n",
              "    <path d=\"M18.56 5.44l.94 2.06.94-2.06 2.06-.94-2.06-.94-.94-2.06-.94 2.06-2.06.94zm-11 1L8.5 8.5l.94-2.06 2.06-.94-2.06-.94L8.5 2.5l-.94 2.06-2.06.94zm10 10l.94 2.06.94-2.06 2.06-.94-2.06-.94-.94-2.06-.94 2.06-2.06.94z\"/><path d=\"M17.41 7.96l-1.37-1.37c-.4-.4-.92-.59-1.43-.59-.52 0-1.04.2-1.43.59L10.3 9.45l-7.72 7.72c-.78.78-.78 2.05 0 2.83L4 21.41c.39.39.9.59 1.41.59.51 0 1.02-.2 1.41-.59l7.78-7.78 2.81-2.81c.8-.78.8-2.07 0-2.86zM5.41 20L4 18.59l7.72-7.72 1.47 1.35L5.41 20z\"/>\n",
              "  </svg>\n",
              "      </button>\n",
              "      \n",
              "  <style>\n",
              "    .colab-df-container {\n",
              "      display:flex;\n",
              "      flex-wrap:wrap;\n",
              "      gap: 12px;\n",
              "    }\n",
              "\n",
              "    .colab-df-convert {\n",
              "      background-color: #E8F0FE;\n",
              "      border: none;\n",
              "      border-radius: 50%;\n",
              "      cursor: pointer;\n",
              "      display: none;\n",
              "      fill: #1967D2;\n",
              "      height: 32px;\n",
              "      padding: 0 0 0 0;\n",
              "      width: 32px;\n",
              "    }\n",
              "\n",
              "    .colab-df-convert:hover {\n",
              "      background-color: #E2EBFA;\n",
              "      box-shadow: 0px 1px 2px rgba(60, 64, 67, 0.3), 0px 1px 3px 1px rgba(60, 64, 67, 0.15);\n",
              "      fill: #174EA6;\n",
              "    }\n",
              "\n",
              "    [theme=dark] .colab-df-convert {\n",
              "      background-color: #3B4455;\n",
              "      fill: #D2E3FC;\n",
              "    }\n",
              "\n",
              "    [theme=dark] .colab-df-convert:hover {\n",
              "      background-color: #434B5C;\n",
              "      box-shadow: 0px 1px 3px 1px rgba(0, 0, 0, 0.15);\n",
              "      filter: drop-shadow(0px 1px 2px rgba(0, 0, 0, 0.3));\n",
              "      fill: #FFFFFF;\n",
              "    }\n",
              "  </style>\n",
              "\n",
              "      <script>\n",
              "        const buttonEl =\n",
              "          document.querySelector('#df-af188bae-24c7-4ed4-b6e2-2e78e5e92fec button.colab-df-convert');\n",
              "        buttonEl.style.display =\n",
              "          google.colab.kernel.accessAllowed ? 'block' : 'none';\n",
              "\n",
              "        async function convertToInteractive(key) {\n",
              "          const element = document.querySelector('#df-af188bae-24c7-4ed4-b6e2-2e78e5e92fec');\n",
              "          const dataTable =\n",
              "            await google.colab.kernel.invokeFunction('convertToInteractive',\n",
              "                                                     [key], {});\n",
              "          if (!dataTable) return;\n",
              "\n",
              "          const docLinkHtml = 'Like what you see? Visit the ' +\n",
              "            '<a target=\"_blank\" href=https://colab.research.google.com/notebooks/data_table.ipynb>data table notebook</a>'\n",
              "            + ' to learn more about interactive tables.';\n",
              "          element.innerHTML = '';\n",
              "          dataTable['output_type'] = 'display_data';\n",
              "          await google.colab.output.renderOutput(dataTable, element);\n",
              "          const docLink = document.createElement('div');\n",
              "          docLink.innerHTML = docLinkHtml;\n",
              "          element.appendChild(docLink);\n",
              "        }\n",
              "      </script>\n",
              "    </div>\n",
              "  </div>\n",
              "  "
            ]
          },
          "metadata": {},
          "execution_count": 5
        }
      ]
    },
    {
      "cell_type": "code",
      "source": [
        "class LinearRegression:\n",
        "  def __init__(self, size, Lr):\n",
        "    self.n_weight = 0\n",
        "    self.n_bias = 0\n",
        "    self.data_size = size\n",
        "    self.Lr = Lr\n",
        "    self.sum_error_squared = 0\n",
        "\n",
        "  def predict(self, weight, bias, data_set):\n",
        "    y_predict = data_set[\"office_size\"] * weight + bias\n",
        "    return y_predict\n",
        "\n",
        "  def mean_squared_error(self, data_set):\n",
        "    data_set[\"error\"] = data_set[\"office_price\"] - data_set[\"y_predict\"]\n",
        "    data_set[\"error_squared\"] = data_set[\"error\"]**2\n",
        "    return sum(data_set['error_squared'])/self.data_size\n",
        "\n",
        "  def gradient_descent(self, bias, weight):\n",
        "    self.n_bias = bias - (self.Lr * - 2 * sum (data_set[\"error\"]))\n",
        "    self.n_weight = weight - (self.Lr * ((-2/self.data_size) * sum(data_set[\"office_size\"] * data_set[\"error\"])))\n",
        "    return self.n_bias, self.n_weight"
      ],
      "metadata": {
        "id": "xLcGYC4e-Mdg"
      },
      "execution_count": null,
      "outputs": []
    },
    {
      "cell_type": "code",
      "source": [
        "model = LinearRegression(n, Lr)"
      ],
      "metadata": {
        "id": "nvB9JRlbCZre"
      },
      "execution_count": null,
      "outputs": []
    },
    {
      "cell_type": "code",
      "source": [
        "weight = 0.6\n",
        "bias = 6\n",
        "epochs = 100\n",
        "\n",
        "for i in range(epochs):\n",
        "  data_set[\"y_predict\"] = model.predict(weight, bias, data_set)\n",
        "\n",
        "  model.mean_squared_error(data_set)\n",
        "\n",
        "  bias, weight = model.gradient_descent(bias, weight)\n",
        "\n",
        "\n",
        "pd.DataFrame(data_set)"
      ],
      "metadata": {
        "colab": {
          "base_uri": "https://localhost:8080/",
          "height": 424
        },
        "id": "3IXxh3Z7DsYx",
        "outputId": "d73d83ea-15ed-4595-e524-7d3dbab76e00"
      },
      "execution_count": null,
      "outputs": [
        {
          "output_type": "execute_result",
          "data": {
            "text/plain": [
              "    office_size  office_price     y_predict         error  error_squared\n",
              "0    286.341350   4951.600240  1.558299e+09 -1.558294e+09   2.428280e+18\n",
              "1    324.970113   5032.281174  1.768299e+09 -1.768294e+09   3.126865e+18\n",
              "2    266.664798   5061.636438  1.451330e+09 -1.451325e+09   2.106343e+18\n",
              "3    275.913588   5103.592082  1.501610e+09 -1.501604e+09   2.254816e+18\n",
              "4    306.101062   5022.068761  1.665720e+09 -1.665715e+09   2.774607e+18\n",
              "..          ...           ...           ...           ...            ...\n",
              "95   204.444521   4991.201984  1.113077e+09 -1.113072e+09   1.238929e+18\n",
              "96   425.977567   4938.978378  2.317414e+09 -2.317409e+09   5.370384e+18\n",
              "97   274.993561   4923.268901  1.496608e+09 -1.496603e+09   2.239821e+18\n",
              "98   323.171386   5006.722090  1.758521e+09 -1.758516e+09   3.092378e+18\n",
              "99   347.701490   4973.927791  1.891876e+09 -1.891871e+09   3.579175e+18\n",
              "\n",
              "[100 rows x 5 columns]"
            ],
            "text/html": [
              "\n",
              "  <div id=\"df-d4eb182a-2485-4756-8dd3-bab6d6974b70\">\n",
              "    <div class=\"colab-df-container\">\n",
              "      <div>\n",
              "<style scoped>\n",
              "    .dataframe tbody tr th:only-of-type {\n",
              "        vertical-align: middle;\n",
              "    }\n",
              "\n",
              "    .dataframe tbody tr th {\n",
              "        vertical-align: top;\n",
              "    }\n",
              "\n",
              "    .dataframe thead th {\n",
              "        text-align: right;\n",
              "    }\n",
              "</style>\n",
              "<table border=\"1\" class=\"dataframe\">\n",
              "  <thead>\n",
              "    <tr style=\"text-align: right;\">\n",
              "      <th></th>\n",
              "      <th>office_size</th>\n",
              "      <th>office_price</th>\n",
              "      <th>y_predict</th>\n",
              "      <th>error</th>\n",
              "      <th>error_squared</th>\n",
              "    </tr>\n",
              "  </thead>\n",
              "  <tbody>\n",
              "    <tr>\n",
              "      <th>0</th>\n",
              "      <td>286.341350</td>\n",
              "      <td>4951.600240</td>\n",
              "      <td>1.558299e+09</td>\n",
              "      <td>-1.558294e+09</td>\n",
              "      <td>2.428280e+18</td>\n",
              "    </tr>\n",
              "    <tr>\n",
              "      <th>1</th>\n",
              "      <td>324.970113</td>\n",
              "      <td>5032.281174</td>\n",
              "      <td>1.768299e+09</td>\n",
              "      <td>-1.768294e+09</td>\n",
              "      <td>3.126865e+18</td>\n",
              "    </tr>\n",
              "    <tr>\n",
              "      <th>2</th>\n",
              "      <td>266.664798</td>\n",
              "      <td>5061.636438</td>\n",
              "      <td>1.451330e+09</td>\n",
              "      <td>-1.451325e+09</td>\n",
              "      <td>2.106343e+18</td>\n",
              "    </tr>\n",
              "    <tr>\n",
              "      <th>3</th>\n",
              "      <td>275.913588</td>\n",
              "      <td>5103.592082</td>\n",
              "      <td>1.501610e+09</td>\n",
              "      <td>-1.501604e+09</td>\n",
              "      <td>2.254816e+18</td>\n",
              "    </tr>\n",
              "    <tr>\n",
              "      <th>4</th>\n",
              "      <td>306.101062</td>\n",
              "      <td>5022.068761</td>\n",
              "      <td>1.665720e+09</td>\n",
              "      <td>-1.665715e+09</td>\n",
              "      <td>2.774607e+18</td>\n",
              "    </tr>\n",
              "    <tr>\n",
              "      <th>...</th>\n",
              "      <td>...</td>\n",
              "      <td>...</td>\n",
              "      <td>...</td>\n",
              "      <td>...</td>\n",
              "      <td>...</td>\n",
              "    </tr>\n",
              "    <tr>\n",
              "      <th>95</th>\n",
              "      <td>204.444521</td>\n",
              "      <td>4991.201984</td>\n",
              "      <td>1.113077e+09</td>\n",
              "      <td>-1.113072e+09</td>\n",
              "      <td>1.238929e+18</td>\n",
              "    </tr>\n",
              "    <tr>\n",
              "      <th>96</th>\n",
              "      <td>425.977567</td>\n",
              "      <td>4938.978378</td>\n",
              "      <td>2.317414e+09</td>\n",
              "      <td>-2.317409e+09</td>\n",
              "      <td>5.370384e+18</td>\n",
              "    </tr>\n",
              "    <tr>\n",
              "      <th>97</th>\n",
              "      <td>274.993561</td>\n",
              "      <td>4923.268901</td>\n",
              "      <td>1.496608e+09</td>\n",
              "      <td>-1.496603e+09</td>\n",
              "      <td>2.239821e+18</td>\n",
              "    </tr>\n",
              "    <tr>\n",
              "      <th>98</th>\n",
              "      <td>323.171386</td>\n",
              "      <td>5006.722090</td>\n",
              "      <td>1.758521e+09</td>\n",
              "      <td>-1.758516e+09</td>\n",
              "      <td>3.092378e+18</td>\n",
              "    </tr>\n",
              "    <tr>\n",
              "      <th>99</th>\n",
              "      <td>347.701490</td>\n",
              "      <td>4973.927791</td>\n",
              "      <td>1.891876e+09</td>\n",
              "      <td>-1.891871e+09</td>\n",
              "      <td>3.579175e+18</td>\n",
              "    </tr>\n",
              "  </tbody>\n",
              "</table>\n",
              "<p>100 rows × 5 columns</p>\n",
              "</div>\n",
              "      <button class=\"colab-df-convert\" onclick=\"convertToInteractive('df-d4eb182a-2485-4756-8dd3-bab6d6974b70')\"\n",
              "              title=\"Convert this dataframe to an interactive table.\"\n",
              "              style=\"display:none;\">\n",
              "        \n",
              "  <svg xmlns=\"http://www.w3.org/2000/svg\" height=\"24px\"viewBox=\"0 0 24 24\"\n",
              "       width=\"24px\">\n",
              "    <path d=\"M0 0h24v24H0V0z\" fill=\"none\"/>\n",
              "    <path d=\"M18.56 5.44l.94 2.06.94-2.06 2.06-.94-2.06-.94-.94-2.06-.94 2.06-2.06.94zm-11 1L8.5 8.5l.94-2.06 2.06-.94-2.06-.94L8.5 2.5l-.94 2.06-2.06.94zm10 10l.94 2.06.94-2.06 2.06-.94-2.06-.94-.94-2.06-.94 2.06-2.06.94z\"/><path d=\"M17.41 7.96l-1.37-1.37c-.4-.4-.92-.59-1.43-.59-.52 0-1.04.2-1.43.59L10.3 9.45l-7.72 7.72c-.78.78-.78 2.05 0 2.83L4 21.41c.39.39.9.59 1.41.59.51 0 1.02-.2 1.41-.59l7.78-7.78 2.81-2.81c.8-.78.8-2.07 0-2.86zM5.41 20L4 18.59l7.72-7.72 1.47 1.35L5.41 20z\"/>\n",
              "  </svg>\n",
              "      </button>\n",
              "      \n",
              "  <style>\n",
              "    .colab-df-container {\n",
              "      display:flex;\n",
              "      flex-wrap:wrap;\n",
              "      gap: 12px;\n",
              "    }\n",
              "\n",
              "    .colab-df-convert {\n",
              "      background-color: #E8F0FE;\n",
              "      border: none;\n",
              "      border-radius: 50%;\n",
              "      cursor: pointer;\n",
              "      display: none;\n",
              "      fill: #1967D2;\n",
              "      height: 32px;\n",
              "      padding: 0 0 0 0;\n",
              "      width: 32px;\n",
              "    }\n",
              "\n",
              "    .colab-df-convert:hover {\n",
              "      background-color: #E2EBFA;\n",
              "      box-shadow: 0px 1px 2px rgba(60, 64, 67, 0.3), 0px 1px 3px 1px rgba(60, 64, 67, 0.15);\n",
              "      fill: #174EA6;\n",
              "    }\n",
              "\n",
              "    [theme=dark] .colab-df-convert {\n",
              "      background-color: #3B4455;\n",
              "      fill: #D2E3FC;\n",
              "    }\n",
              "\n",
              "    [theme=dark] .colab-df-convert:hover {\n",
              "      background-color: #434B5C;\n",
              "      box-shadow: 0px 1px 3px 1px rgba(0, 0, 0, 0.15);\n",
              "      filter: drop-shadow(0px 1px 2px rgba(0, 0, 0, 0.3));\n",
              "      fill: #FFFFFF;\n",
              "    }\n",
              "  </style>\n",
              "\n",
              "      <script>\n",
              "        const buttonEl =\n",
              "          document.querySelector('#df-d4eb182a-2485-4756-8dd3-bab6d6974b70 button.colab-df-convert');\n",
              "        buttonEl.style.display =\n",
              "          google.colab.kernel.accessAllowed ? 'block' : 'none';\n",
              "\n",
              "        async function convertToInteractive(key) {\n",
              "          const element = document.querySelector('#df-d4eb182a-2485-4756-8dd3-bab6d6974b70');\n",
              "          const dataTable =\n",
              "            await google.colab.kernel.invokeFunction('convertToInteractive',\n",
              "                                                     [key], {});\n",
              "          if (!dataTable) return;\n",
              "\n",
              "          const docLinkHtml = 'Like what you see? Visit the ' +\n",
              "            '<a target=\"_blank\" href=https://colab.research.google.com/notebooks/data_table.ipynb>data table notebook</a>'\n",
              "            + ' to learn more about interactive tables.';\n",
              "          element.innerHTML = '';\n",
              "          dataTable['output_type'] = 'display_data';\n",
              "          await google.colab.output.renderOutput(dataTable, element);\n",
              "          const docLink = document.createElement('div');\n",
              "          docLink.innerHTML = docLinkHtml;\n",
              "          element.appendChild(docLink);\n",
              "        }\n",
              "      </script>\n",
              "    </div>\n",
              "  </div>\n",
              "  "
            ]
          },
          "metadata": {},
          "execution_count": 34
        }
      ]
    },
    {
      "cell_type": "code",
      "source": [
        "weight, bias"
      ],
      "metadata": {
        "colab": {
          "base_uri": "https://localhost:8080/"
        },
        "id": "ROzc4FTm1MWZ",
        "outputId": "38366244-3cfa-4491-cbe0-b3b75127e30d"
      },
      "execution_count": null,
      "outputs": [
        {
          "output_type": "execute_result",
          "data": {
            "text/plain": [
              "(-6189097.310501814, -1866504.6340258615)"
            ]
          },
          "metadata": {},
          "execution_count": 35
        }
      ]
    },
    {
      "cell_type": "code",
      "source": [
        "plt.scatter(data_set[\"office_size\"], data_set[\"y_predict\"])\n",
        "plt.plot(data_set[\"office_size\"], data_set[\"y_predict\"], \"yellow\")"
      ],
      "metadata": {
        "colab": {
          "base_uri": "https://localhost:8080/",
          "height": 293
        },
        "id": "lzpT_UBG1PHZ",
        "outputId": "4e39c67b-859a-44fb-d1fd-a81ddaf06fc2"
      },
      "execution_count": null,
      "outputs": [
        {
          "output_type": "execute_result",
          "data": {
            "text/plain": [
              "[<matplotlib.lines.Line2D at 0x7f94b2d7d810>]"
            ]
          },
          "metadata": {},
          "execution_count": 31
        },
        {
          "output_type": "display_data",
          "data": {
            "text/plain": [
              "<Figure size 432x288 with 1 Axes>"
            ],
            "image/png": "[encoded data removed]"
          },
          "metadata": {
            "needs_background": "light"
          }
        }
      ]
    },
    {
      "cell_type": "code",
      "source": [
        "size = 100\n",
        "price = weight * size + bias\n",
        "price"
      ],
      "metadata": {
        "colab": {
          "base_uri": "https://localhost:8080/"
        },
        "id": "mrO6I7F51vh9",
        "outputId": "cd91b6d9-45cf-44ef-d89e-a6c5365d7758"
      },
      "execution_count": null,
      "outputs": [
        {
          "output_type": "execute_result",
          "data": {
            "text/plain": [
              "-620776235.6842072"
            ]
          },
          "metadata": {},
          "execution_count": 32
        }
      ]
    }
  ]
}